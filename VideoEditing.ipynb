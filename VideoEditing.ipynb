{
  "nbformat": 4,
  "nbformat_minor": 0,
  "metadata": {
    "colab": {
      "name": "VideoEditing.ipynb",
      "provenance": [],
      "collapsed_sections": [],
      "mount_file_id": "1MCjduZiIvNPkGZFJXLH-qP_EdI9GEjxN",
      "authorship_tag": "ABX9TyPTldyddjqSgLH5yykNW257",
      "include_colab_link": true
    },
    "kernelspec": {
      "name": "python3",
      "display_name": "Python 3"
    },
    "language_info": {
      "name": "python"
    }
  },
  "cells": [
    {
      "cell_type": "markdown",
      "metadata": {
        "id": "view-in-github",
        "colab_type": "text"
      },
      "source": [
        "<a href=\"https://colab.research.google.com/github/xanasa14/ImagesCorruptioon/blob/master/VideoEditing.ipynb\" target=\"_parent\"><img src=\"https://colab.research.google.com/assets/colab-badge.svg\" alt=\"Open In Colab\"/></a>"
      ]
    },
    {
      "cell_type": "code",
      "execution_count": 1,
      "metadata": {
        "colab": {
          "base_uri": "https://localhost:8080/"
        },
        "id": "VCzUnXbBQJIs",
        "outputId": "88e11cb4-df42-4941-c783-95fee2c09aa8"
      },
      "outputs": [
        {
          "output_type": "stream",
          "name": "stdout",
          "text": [
            "Requirement already satisfied: moviepy in /usr/local/lib/python3.7/dist-packages (0.2.3.5)\n",
            "Requirement already satisfied: decorator<5.0,>=4.0.2 in /usr/local/lib/python3.7/dist-packages (from moviepy) (4.4.2)\n",
            "Requirement already satisfied: imageio<3.0,>=2.1.2 in /usr/local/lib/python3.7/dist-packages (from moviepy) (2.4.1)\n",
            "Requirement already satisfied: numpy in /usr/local/lib/python3.7/dist-packages (from moviepy) (1.19.5)\n",
            "Requirement already satisfied: tqdm<5.0,>=4.11.2 in /usr/local/lib/python3.7/dist-packages (from moviepy) (4.62.3)\n",
            "Requirement already satisfied: pillow in /usr/local/lib/python3.7/dist-packages (from imageio<3.0,>=2.1.2->moviepy) (7.1.2)\n"
          ]
        }
      ],
      "source": [
        "!pip install moviepy\n"
      ]
    },
    {
      "cell_type": "code",
      "source": [
        "#Resizing all images to same size \n",
        "import PIL\n",
        "import os\n",
        "from PIL import Image\n",
        "f = \"/content/drive/MyDrive/VideoEditing/XmasProject/pictures\"\n",
        "os.listdir(f)\n",
        "\n",
        "f = \"/content/drive/MyDrive/VideoEditing/XmasProject/pictures\"\n",
        "for file in os.listdir(f):\n",
        "    f_img = f+\"/\"+file\n",
        "    img = Image.open(f_img)\n",
        "    img = img.resize((2296,1724))\n",
        "    img.save(f_img)"
      ],
      "metadata": {
        "id": "cCHh-J9VWivZ"
      },
      "execution_count": 38,
      "outputs": []
    },
    {
      "cell_type": "code",
      "source": [
        "from moviepy.editor import AudioFileClip, ImageClip\n",
        "\n",
        "image = \"/content/drive/MyDrive/VideoEditing/XmasProject/pictures2/checking-the-list-1421386.jpg\"\n",
        "audio = \"/content/drive/MyDrive/VideoEditing/XmasProject/audio/Xmas-intro-music.mp3\"\n",
        "output = \"/content/drive/MyDrive/VideoEditing/XmasProject/output/finalxmas.mp4\"\n",
        "\n",
        "\n",
        "\"\"\"Create and save a video file to `output_path` after \n",
        "combining a static image that is located in `image_path` \n",
        "with an audio file in `audio_path`\"\"\"\n",
        "# create the audio clip object\n",
        "audio_clip = AudioFileClip(audio)\n",
        "# create the image clip object\n",
        "image_clip = ImageClip(image)\n",
        "# use set_audio method from image clip to combine the audio with the image\n",
        "video_clip = image_clip.set_audio(audio_clip)\n",
        "# specify the duration of the new clip to be the duration of the audio clip\n",
        "video_clip.duration = audio_clip.duration\n",
        "# set the FPS to 1\n",
        "video_clip.fps = 1\n",
        "# write the resuling video clip\n",
        "video_clip.write_videofile(output)"
      ],
      "metadata": {
        "colab": {
          "base_uri": "https://localhost:8080/"
        },
        "id": "X9nzL3npQOEW",
        "outputId": "c67e4cc1-c54c-463b-a48b-03e7c5f3b10f"
      },
      "execution_count": 39,
      "outputs": [
        {
          "output_type": "stream",
          "name": "stdout",
          "text": [
            "[MoviePy] >>>> Building video /content/drive/MyDrive/VideoEditing/XmasProject/output/finalxmas.mp4\n",
            "[MoviePy] Writing audio in finalxmasTEMP_MPY_wvf_snd.mp3\n"
          ]
        },
        {
          "output_type": "stream",
          "name": "stderr",
          "text": [
            "100%|██████████| 509/509 [00:00<00:00, 776.06it/s]"
          ]
        },
        {
          "output_type": "stream",
          "name": "stdout",
          "text": [
            "[MoviePy] Done.\n",
            "[MoviePy] Writing video /content/drive/MyDrive/VideoEditing/XmasProject/output/finalxmas.mp4\n"
          ]
        },
        {
          "output_type": "stream",
          "name": "stderr",
          "text": [
            "\n",
            "100%|██████████| 24/24 [00:00<00:00, 78.35it/s]\n"
          ]
        },
        {
          "output_type": "stream",
          "name": "stdout",
          "text": [
            "[MoviePy] Done.\n",
            "[MoviePy] >>>> Video ready: /content/drive/MyDrive/VideoEditing/XmasProject/output/finalxmas.mp4 \n",
            "\n"
          ]
        }
      ]
    },
    {
      "cell_type": "code",
      "source": [
        "import moviepy.editor as mpy\n",
        "clip = mpy.ImageSequenceClip(\"/content/drive/MyDrive/VideoEditing/XmasProject/pictures\", fps=0.3)\n",
        "audio = (mpy.AudioFileClip(\"/content/drive/MyDrive/VideoEditing/XmasProject/audio/Xmas-intro-music.mp3\") # or any other format\n",
        "            .set_duration(clip.duration))\n",
        "clip.audio = audio\n",
        "clip.write_videofile(\"/content/drive/MyDrive/VideoEditing/XmasProject/output/finalxmas.mp4\") # or any other format"
      ],
      "metadata": {
        "colab": {
          "base_uri": "https://localhost:8080/"
        },
        "id": "qX_VSbqmQUXx",
        "outputId": "73a8d6ca-253c-40ee-c81f-2c50d98ae3ff"
      },
      "execution_count": 43,
      "outputs": [
        {
          "output_type": "stream",
          "name": "stdout",
          "text": [
            "[MoviePy] >>>> Building video /content/drive/MyDrive/VideoEditing/XmasProject/output/finalxmas.mp4\n",
            "[MoviePy] Writing audio in finalxmasTEMP_MPY_wvf_snd.mp3\n"
          ]
        },
        {
          "output_type": "stream",
          "name": "stderr",
          "text": [
            "100%|██████████| 295/295 [00:00<00:00, 796.26it/s]"
          ]
        },
        {
          "output_type": "stream",
          "name": "stdout",
          "text": [
            "[MoviePy] Done.\n",
            "[MoviePy] Writing video /content/drive/MyDrive/VideoEditing/XmasProject/output/finalxmas.mp4\n"
          ]
        },
        {
          "output_type": "stream",
          "name": "stderr",
          "text": [
            "\n",
            " 80%|████████  | 4/5 [00:00<00:00, 16.41it/s]\n"
          ]
        },
        {
          "output_type": "stream",
          "name": "stdout",
          "text": [
            "[MoviePy] Done.\n",
            "[MoviePy] >>>> Video ready: /content/drive/MyDrive/VideoEditing/XmasProject/output/finalxmas.mp4 \n",
            "\n"
          ]
        }
      ]
    },
    {
      "cell_type": "code",
      "source": [
        ""
      ],
      "metadata": {
        "id": "8xM1uozEV9Yh"
      },
      "execution_count": null,
      "outputs": []
    }
  ]
}